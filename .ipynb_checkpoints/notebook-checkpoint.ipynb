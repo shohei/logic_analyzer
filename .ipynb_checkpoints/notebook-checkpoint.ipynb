{
 "cells": [
  {
   "cell_type": "code",
   "execution_count": 39,
   "metadata": {},
   "outputs": [],
   "source": [
    "# This Python 3 environment comes with many helpful analytics libraries installed\n",
    "# It is defined by the kaggle/python docker image: https://github.com/kaggle/docker-python\n",
    "# For example, here's several helpful packages to load in \n",
    "\n",
    "import numpy as np # linear algebra\n",
    "import pandas as pd # data processing, CSV file I/O (e.g. pd.read_csv)\n",
    "\n",
    "# Input data files are available in the \"../input/\" directory.\n",
    "# For example, running this (by clicking run or pressing Shift+Enter) will list the files in the input directory\n",
    "\n",
    "import seaborn as sns\n",
    "sns.set_style(\"whitegrid\")\n",
    "\n",
    "from subprocess import check_output\n",
    "print(check_output([\"ls\", \"../input\"]).decode(\"utf8\"))\n",
    "\n",
    "# Any results you write to the current directory are saved as output.\n",
    "\n",
    "data = pd.read_csv(\"../input/ign.csv\")"
   ]
  },
  {
   "cell_type": "code",
   "execution_count": 40,
   "metadata": {},
   "outputs": [],
   "source": [
    "data.head()"
   ]
  },
  {
   "cell_type": "code",
   "execution_count": 41,
   "metadata": {},
   "outputs": [],
   "source": [
    "data[\"platform\"].value_counts()"
   ]
  },
  {
   "cell_type": "code",
   "execution_count": 42,
   "metadata": {},
   "outputs": [],
   "source": [
    "Computer = [\"PC\", \"Macintosh\", \"Linux\", \"Commodore 64/128\", \"Windows Surface\", \"SteamOS\"]\n",
    "Console = [\"PlayStation 2\", \"Xbox 360\", \"Wii\", \"PlayStation 3\", \"Nintendo DS\", \"PlayStation\", \"Xbox\",\n",
    "           \"GameCube\", \"Nintendo 64\", \"Dreamcast\", \"PlayStation 4\", \"Xbox One\", \"Wii U\", \"Genesis\",\n",
    "           \"NES\", \"TurboGrafx-16\", \"Super NES\", \"Sega 32X\", \"Master System\", \"Nintendo 64DD\", \"Saturn\",\n",
    "           \"Atari 2600\", \"Atari 5200\", \"TurboGrafx-CD\", \"Ouya\"]\n",
    "Portable = [\"Nintendo DSi\", \"PlayStation Portable\", \"Game Boy Advance\", \"Game Boy Color\", \"Nintendo 3DS\",\n",
    "            \"PlayStation Vita\", \"Lynx\", \"NeoGeo Pocket Color\", \"Game Boy\", \"N-Gage\", \"WonderSwan\",\n",
    "            \"New Nintendo 3DS\", \"WonderSwan Color\", \"dreamcast VMU\"]\n",
    "Mobile = [\"iPhone\", \"iPad\", \"Android\", \"Windows Phone\", \"iPod\", \"Pocket PC\"]\n",
    "Arcade = [\"Arcade\", \"NeoGeo\", \"Vectrex\"]\n",
    "\n",
    "def mapping(item):\n",
    "    if item in Computer:\n",
    "        return \"Computer\"\n",
    "    if item in Console:\n",
    "        return \"Console\"\n",
    "    if item in Portable:\n",
    "        return \"Portable\"\n",
    "    if item in Mobile:\n",
    "        return \"Mobile\"\n",
    "    if item in Arcade:\n",
    "        return \"Arcade\"\n",
    "    return \"Other\"\n",
    "\n",
    "data[\"Type\"] = data[\"platform\"].map(mapping)"
   ]
  },
  {
   "cell_type": "code",
   "execution_count": 43,
   "metadata": {},
   "outputs": [],
   "source": [
    "data[\"Type\"].value_counts()"
   ]
  },
  {
   "cell_type": "code",
   "execution_count": null,
   "metadata": {},
   "outputs": [],
   "source": []
  },
  {
   "cell_type": "code",
   "execution_count": 44,
   "metadata": {},
   "outputs": [],
   "source": [
    "df = data.groupby([\"Type\", \"release_year\"]).size().unstack().T\n",
    "df.reset_index(inplace = True)\n",
    "df = df.fillna(0)"
   ]
  },
  {
   "cell_type": "code",
   "execution_count": 45,
   "metadata": {},
   "outputs": [],
   "source": [
    "df.head()"
   ]
  },
  {
   "cell_type": "code",
   "execution_count": 46,
   "metadata": {},
   "outputs": [],
   "source": [
    "df[[\"Arcade\", \"Computer\", \"Console\", \"Mobile\", \"Portable\", \"Other\"]].plot(x = df[\"release_year\"])"
   ]
  }
 ],
 "metadata": {
  "kernelspec": {
   "display_name": "Python 3",
   "language": "python",
   "name": "python3"
  },
  "language_info": {
   "codemirror_mode": {
    "name": "ipython",
    "version": 3
   },
   "file_extension": ".py",
   "mimetype": "text/x-python",
   "name": "python",
   "nbconvert_exporter": "python",
   "pygments_lexer": "ipython3",
   "version": "3.5.2"
  }
 },
 "nbformat": 4,
 "nbformat_minor": 0
}
